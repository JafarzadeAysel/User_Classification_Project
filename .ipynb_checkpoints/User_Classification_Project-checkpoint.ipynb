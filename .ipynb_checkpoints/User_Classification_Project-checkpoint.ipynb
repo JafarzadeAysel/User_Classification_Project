{
 "cells": [
  {
   "cell_type": "markdown",
   "id": "968f6584",
   "metadata": {
    "id": "968f6584"
   },
   "source": [
    "# Importing the relevant libraries"
   ]
  },
  {
   "cell_type": "code",
   "execution_count": 1,
   "id": "9316a818",
   "metadata": {
    "id": "9316a818"
   },
   "outputs": [],
   "source": [
    "import pandas as pd\n",
    "import numpy as np"
   ]
  },
  {
   "cell_type": "markdown",
   "id": "df416b8a",
   "metadata": {
    "id": "df416b8a"
   },
   "source": [
    "# Data Preprocessing"
   ]
  },
  {
   "cell_type": "markdown",
   "id": "f434aead",
   "metadata": {
    "id": "f434aead"
   },
   "source": [
    "### Importing the Database"
   ]
  },
  {
   "cell_type": "code",
   "execution_count": 18,
   "id": "2c620a5a",
   "metadata": {
    "colab": {
     "base_uri": "https://localhost:8080/",
     "height": 226
    },
    "id": "2c620a5a",
    "outputId": "e991c5b2-232d-4c72-9545-7e853b56db8c"
   },
   "outputs": [
    {
     "data": {
      "application/javascript": [
       "\n",
       "        if (window._pyforest_update_imports_cell) { window._pyforest_update_imports_cell('import pandas as pd'); }\n",
       "    "
      ],
      "text/plain": [
       "<IPython.core.display.Javascript object>"
      ]
     },
     "metadata": {},
     "output_type": "display_data"
    },
    {
     "data": {
      "text/html": [
       "<div>\n",
       "<style scoped>\n",
       "    .dataframe tbody tr th:only-of-type {\n",
       "        vertical-align: middle;\n",
       "    }\n",
       "\n",
       "    .dataframe tbody tr th {\n",
       "        vertical-align: top;\n",
       "    }\n",
       "\n",
       "    .dataframe thead th {\n",
       "        text-align: right;\n",
       "    }\n",
       "</style>\n",
       "<table border=\"1\" class=\"dataframe\">\n",
       "  <thead>\n",
       "    <tr style=\"text-align: right;\">\n",
       "      <th></th>\n",
       "      <th>student_country</th>\n",
       "      <th>days_on_platform</th>\n",
       "      <th>minutes_watched</th>\n",
       "      <th>courses_started</th>\n",
       "      <th>practice_exams_started</th>\n",
       "      <th>practice_exams_passed</th>\n",
       "      <th>minutes_spent_on_exams</th>\n",
       "      <th>purchased</th>\n",
       "    </tr>\n",
       "  </thead>\n",
       "  <tbody>\n",
       "    <tr>\n",
       "      <th>0</th>\n",
       "      <td>US</td>\n",
       "      <td>288</td>\n",
       "      <td>358.1</td>\n",
       "      <td>1</td>\n",
       "      <td>2</td>\n",
       "      <td>2</td>\n",
       "      <td>15.81</td>\n",
       "      <td>0</td>\n",
       "    </tr>\n",
       "    <tr>\n",
       "      <th>1</th>\n",
       "      <td>SG</td>\n",
       "      <td>260</td>\n",
       "      <td>1.7</td>\n",
       "      <td>1</td>\n",
       "      <td>1</td>\n",
       "      <td>0</td>\n",
       "      <td>16.00</td>\n",
       "      <td>0</td>\n",
       "    </tr>\n",
       "    <tr>\n",
       "      <th>2</th>\n",
       "      <td>TR</td>\n",
       "      <td>260</td>\n",
       "      <td>22.4</td>\n",
       "      <td>1</td>\n",
       "      <td>1</td>\n",
       "      <td>0</td>\n",
       "      <td>0.93</td>\n",
       "      <td>0</td>\n",
       "    </tr>\n",
       "    <tr>\n",
       "      <th>3</th>\n",
       "      <td>KE</td>\n",
       "      <td>259</td>\n",
       "      <td>18.8</td>\n",
       "      <td>1</td>\n",
       "      <td>1</td>\n",
       "      <td>1</td>\n",
       "      <td>14.63</td>\n",
       "      <td>0</td>\n",
       "    </tr>\n",
       "    <tr>\n",
       "      <th>4</th>\n",
       "      <td>IN</td>\n",
       "      <td>259</td>\n",
       "      <td>118.0</td>\n",
       "      <td>2</td>\n",
       "      <td>2</td>\n",
       "      <td>1</td>\n",
       "      <td>16.48</td>\n",
       "      <td>0</td>\n",
       "    </tr>\n",
       "  </tbody>\n",
       "</table>\n",
       "</div>"
      ],
      "text/plain": [
       "  student_country  days_on_platform  minutes_watched  courses_started  \\\n",
       "0              US               288            358.1                1   \n",
       "1              SG               260              1.7                1   \n",
       "2              TR               260             22.4                1   \n",
       "3              KE               259             18.8                1   \n",
       "4              IN               259            118.0                2   \n",
       "\n",
       "   practice_exams_started  practice_exams_passed  minutes_spent_on_exams  \\\n",
       "0                       2                      2                   15.81   \n",
       "1                       1                      0                   16.00   \n",
       "2                       1                      0                    0.93   \n",
       "3                       1                      1                   14.63   \n",
       "4                       2                      1                   16.48   \n",
       "\n",
       "   purchased  \n",
       "0          0  \n",
       "1          0  \n",
       "2          0  \n",
       "3          0  \n",
       "4          0  "
      ]
     },
     "execution_count": 18,
     "metadata": {},
     "output_type": "execute_result"
    }
   ],
   "source": [
    "df = pd.read_csv('ml_datasource.csv')\n",
    "df.head()"
   ]
  },
  {
   "cell_type": "code",
   "execution_count": 3,
   "id": "SdQ_hD3-J0HP",
   "metadata": {
    "colab": {
     "base_uri": "https://localhost:8080/"
    },
    "id": "SdQ_hD3-J0HP",
    "outputId": "0d715d57-fcc4-43f4-c904-cfbdd054d48d"
   },
   "outputs": [
    {
     "data": {
      "text/plain": [
       "Index(['student_country', 'days_on_platform', 'minutes_watched',\n",
       "       'courses_started', 'practice_exams_started', 'practice_exams_passed',\n",
       "       'minutes_spent_on_exams', 'purchased'],\n",
       "      dtype='object')"
      ]
     },
     "execution_count": 3,
     "metadata": {},
     "output_type": "execute_result"
    }
   ],
   "source": [
    "df.columns"
   ]
  },
  {
   "cell_type": "code",
   "execution_count": 4,
   "id": "O-zJcKdyJ8KK",
   "metadata": {
    "colab": {
     "base_uri": "https://localhost:8080/"
    },
    "id": "O-zJcKdyJ8KK",
    "outputId": "9d136075-4b52-456e-8c05-931b20d0e20b"
   },
   "outputs": [
    {
     "data": {
      "text/plain": [
       "111"
      ]
     },
     "execution_count": 4,
     "metadata": {},
     "output_type": "execute_result"
    }
   ],
   "source": [
    "#let's see how many students from Azerbaijan :)\n",
    "df[df.student_country == 'AZ'].shape[0]"
   ]
  },
  {
   "cell_type": "code",
   "execution_count": 5,
   "id": "3AS2zjihKZE0",
   "metadata": {
    "colab": {
     "base_uri": "https://localhost:8080/"
    },
    "id": "3AS2zjihKZE0",
    "outputId": "e0fa195a-c2d5-440a-c8b9-069fe77101a7"
   },
   "outputs": [
    {
     "data": {
      "text/plain": [
       "41"
      ]
     },
     "execution_count": 5,
     "metadata": {},
     "output_type": "execute_result"
    }
   ],
   "source": [
    "#let's see how many students from Korea :)\n",
    "df[df.student_country == 'KR'].shape[0]"
   ]
  },
  {
   "cell_type": "code",
   "execution_count": 19,
   "id": "de2247c0",
   "metadata": {},
   "outputs": [],
   "source": [
    "#To avoid accidentally modifying the original data source, copy the raw data in a new variable\n",
    "data = df.copy()"
   ]
  },
  {
   "cell_type": "code",
   "execution_count": 30,
   "id": "fc650ec1",
   "metadata": {
    "scrolled": true
   },
   "outputs": [
    {
     "data": {
      "text/plain": [
       "(17761, 2)"
      ]
     },
     "execution_count": 30,
     "metadata": {},
     "output_type": "execute_result"
    }
   ],
   "source": [
    "data.shape"
   ]
  },
  {
   "cell_type": "markdown",
   "id": "0e7ab2c7",
   "metadata": {
    "id": "0e7ab2c7"
   },
   "source": [
    "### Removing Outliers"
   ]
  },
  {
   "cell_type": "code",
   "execution_count": null,
   "id": "7927c4b1",
   "metadata": {
    "id": "7927c4b1"
   },
   "outputs": [],
   "source": []
  },
  {
   "cell_type": "markdown",
   "id": "5b9cc4a7",
   "metadata": {
    "id": "5b9cc4a7"
   },
   "source": [
    "### Checking for Multicollinearity"
   ]
  },
  {
   "cell_type": "code",
   "execution_count": null,
   "id": "3bc1e88c",
   "metadata": {
    "id": "3bc1e88c"
   },
   "outputs": [],
   "source": []
  },
  {
   "cell_type": "markdown",
   "id": "39f1e168",
   "metadata": {
    "id": "39f1e168"
   },
   "source": [
    "### Dealing with NaN Values"
   ]
  },
  {
   "cell_type": "code",
   "execution_count": null,
   "id": "b21f9c2a",
   "metadata": {
    "id": "b21f9c2a"
   },
   "outputs": [],
   "source": []
  },
  {
   "cell_type": "markdown",
   "id": "81c7040a",
   "metadata": {
    "id": "81c7040a"
   },
   "source": [
    "### Splitting the Data"
   ]
  },
  {
   "cell_type": "code",
   "execution_count": null,
   "id": "17b8b409",
   "metadata": {
    "id": "17b8b409"
   },
   "outputs": [],
   "source": []
  },
  {
   "cell_type": "markdown",
   "id": "ced87b59",
   "metadata": {
    "id": "ced87b59"
   },
   "source": [
    "### Encoding the Data"
   ]
  },
  {
   "cell_type": "code",
   "execution_count": null,
   "id": "c89c5791",
   "metadata": {
    "id": "c89c5791"
   },
   "outputs": [],
   "source": []
  },
  {
   "cell_type": "markdown",
   "id": "50436b36",
   "metadata": {
    "id": "50436b36"
   },
   "source": [
    "# Creating a Logistic Regression Model"
   ]
  },
  {
   "cell_type": "code",
   "execution_count": null,
   "id": "7e88380e",
   "metadata": {
    "id": "7e88380e"
   },
   "outputs": [],
   "source": []
  },
  {
   "cell_type": "markdown",
   "id": "9d10db71",
   "metadata": {
    "id": "9d10db71"
   },
   "source": [
    "# Creating a K-Nearest Neighbors Model"
   ]
  },
  {
   "cell_type": "code",
   "execution_count": null,
   "id": "2352fb3f",
   "metadata": {
    "id": "2352fb3f"
   },
   "outputs": [],
   "source": []
  },
  {
   "cell_type": "markdown",
   "id": "81aa87a4",
   "metadata": {
    "id": "81aa87a4"
   },
   "source": [
    "# Creating a Support Vector Machines Model"
   ]
  },
  {
   "cell_type": "code",
   "execution_count": null,
   "id": "4a392bdb",
   "metadata": {
    "id": "4a392bdb"
   },
   "outputs": [],
   "source": []
  },
  {
   "cell_type": "markdown",
   "id": "172bf1f1",
   "metadata": {
    "id": "172bf1f1"
   },
   "source": [
    "# Creating a Decision Trees Model"
   ]
  },
  {
   "cell_type": "code",
   "execution_count": null,
   "id": "530fbc5c",
   "metadata": {
    "id": "530fbc5c"
   },
   "outputs": [],
   "source": []
  },
  {
   "cell_type": "markdown",
   "id": "9b95ab9c",
   "metadata": {
    "id": "9b95ab9c"
   },
   "source": [
    "# Creating a Random Forests Model"
   ]
  },
  {
   "cell_type": "code",
   "execution_count": null,
   "id": "f5119482",
   "metadata": {
    "id": "f5119482"
   },
   "outputs": [],
   "source": []
  }
 ],
 "metadata": {
  "colab": {
   "provenance": []
  },
  "kernelspec": {
   "display_name": "Python 3 (ipykernel)",
   "language": "python",
   "name": "python3"
  },
  "language_info": {
   "codemirror_mode": {
    "name": "ipython",
    "version": 3
   },
   "file_extension": ".py",
   "mimetype": "text/x-python",
   "name": "python",
   "nbconvert_exporter": "python",
   "pygments_lexer": "ipython3",
   "version": "3.9.13"
  }
 },
 "nbformat": 4,
 "nbformat_minor": 5
}
